{
 "cells": [
  {
   "cell_type": "code",
   "execution_count": 1,
   "id": "ffbf67ac",
   "metadata": {},
   "outputs": [],
   "source": [
    "import numpy as np\n",
    "import pandas as pd\n",
    "from sklearn.preprocessing import LabelEncoder, StandardScaler\n",
    "from rl.agents import DQNAgent\n",
    "import gym\n",
    "from gym import spaces\n",
    "import numpy as np\n",
    "from tensorflow.keras.models import Sequential\n",
    "from tensorflow.keras.layers import Dense\n",
    "from rl.agents import DQNAgent\n",
    "from rl.policy import EpsGreedyQPolicy\n",
    "from rl.memory import SequentialMemory\n",
    "from rl.core import Processor"
   ]
  },
  {
   "cell_type": "code",
   "execution_count": 2,
   "id": "e5e4a74c",
   "metadata": {},
   "outputs": [],
   "source": [
    "data = pd.read_excel(\"../Data/State_MDC_Aggregation_2021.xlsx\", engine='openpyxl')\n",
    "label_encoders = {}\n",
    "categorical_cols = ['state', 'MDC', 'Fachabteilung', 'Sekundär']\n",
    "for col in categorical_cols:\n",
    "    le = LabelEncoder()\n",
    "    data[col + '_encoded'] = le.fit_transform(data[col].astype(str))\n",
    "    label_encoders[col] = le  # Save encoders for later use\n",
    "\n",
    "# Normalize numerical columns (e.g., 'total_patients')\n",
    "scaler = StandardScaler()\n",
    "data['total_patients_normalized'] = scaler.fit_transform(data[['total_patients']])"
   ]
  },
  {
   "cell_type": "code",
   "execution_count": 3,
   "id": "dfbcea63",
   "metadata": {},
   "outputs": [],
   "source": [
    "class ReshapeProcessor(Processor):\n",
    "    def process_state_batch(self, state_batch):\n",
    "        # Remove the extra dimension: (batch, 1, 2) → (batch, 2)\n",
    "        return np.squeeze(state_batch, axis=1)\n",
    "    \n",
    "class HospitalEnv(gym.Env):\n",
    "    def __init__(self, data):\n",
    "        super(HospitalEnv, self).__init__()\n",
    "        self.data = data\n",
    "        self.state_size = 2  # patients, state\n",
    "        self.action_space = spaces.Discrete(27)  # 27 MDCs\n",
    "        self.observation_space = spaces.Box(\n",
    "            low=np.array([0, 0]), \n",
    "            high=np.array([1, 1]),\n",
    "            dtype=np.float32\n",
    "        )\n",
    "        \n",
    "    def _get_state(self):\n",
    "        # Extract ONLY the two features we need\n",
    "        out = self.current_patient[['total_patients_normalized', 'state_encoded']].values.flatten()\n",
    "        return out\n",
    "    \n",
    "    def reset(self):\n",
    "        # Randomly select a patient case\n",
    "        self.current_patient = self.data.sample(1)\n",
    "        return self._get_state()\n",
    "    \n",
    "    def step(self, action):\n",
    "        # Simulate reward (e.g., correct department = +1, wrong = -1)\n",
    "        correct_mdc = self.current_patient['MDC_encoded'].values[0]\n",
    "        reward = 1 if action == correct_mdc else -1\n",
    "        done = True  # One-step episode\n",
    "        return self.reset(), reward, done, {}\n",
    "\n"
   ]
  },
  {
   "cell_type": "code",
   "execution_count": 4,
   "id": "d4a1281e",
   "metadata": {},
   "outputs": [
    {
     "name": "stdout",
     "output_type": "stream",
     "text": [
      "Training for 10000 steps ...\n",
      "Interval 1 (0 steps performed)\n",
      "   40/10000 [..............................] - ETA: 40s - reward: -0.9500"
     ]
    },
    {
     "name": "stderr",
     "output_type": "stream",
     "text": [
      "c:\\Users\\Ali\\miniconda3\\envs\\conv\\lib\\site-packages\\gym\\logger.py:30: UserWarning: \u001b[33mWARN: Box bound precision lowered by casting to float32\u001b[0m\n",
      "  warnings.warn(colorize('%s: %s'%('WARN', msg % args), 'yellow'))\n",
      "c:\\Users\\Ali\\miniconda3\\envs\\conv\\lib\\site-packages\\keras\\engine\\training_v1.py:2356: UserWarning: `Model.state_updates` will be removed in a future version. This property should not be used in TensorFlow 2.0, as `updates` are applied automatically.\n",
      "  updates=self.state_updates,\n"
     ]
    },
    {
     "name": "stdout",
     "output_type": "stream",
     "text": [
      " 1001/10000 [==>...........................] - ETA: 32s - reward: -0.9101"
     ]
    },
    {
     "name": "stderr",
     "output_type": "stream",
     "text": [
      "c:\\Users\\Ali\\miniconda3\\envs\\conv\\lib\\site-packages\\keras\\engine\\training_v1.py:2356: UserWarning: `Model.state_updates` will be removed in a future version. This property should not be used in TensorFlow 2.0, as `updates` are applied automatically.\n",
      "  updates=self.state_updates,\n"
     ]
    },
    {
     "name": "stdout",
     "output_type": "stream",
     "text": [
      " 1234/10000 [==>...........................] - ETA: 54s - reward: -0.9157done, took 7.731 seconds\n"
     ]
    },
    {
     "data": {
      "text/plain": [
       "<keras.callbacks.History at 0x1c64bc1ffa0>"
      ]
     },
     "execution_count": 4,
     "metadata": {},
     "output_type": "execute_result"
    }
   ],
   "source": [
    "policy = EpsGreedyQPolicy()\n",
    "memory = SequentialMemory(limit=50000, window_length=1)\n",
    "model = Sequential([\n",
    "    Dense(24, activation='relu', input_shape=(2,)),\n",
    "    Dense(24, activation='relu'),\n",
    "    Dense(27, activation='linear')  # 27 actions (MDCs)\n",
    "])\n",
    "# Add the processor to your agent\n",
    "agent = DQNAgent(\n",
    "    model=model,\n",
    "    policy=policy,\n",
    "    memory=memory,\n",
    "    nb_actions=27,\n",
    "    processor=ReshapeProcessor()  # Fixes shape issues\n",
    ")\n",
    "\n",
    "agent.compile(optimizer='adam')\n",
    "\n",
    "# Train the agent\n",
    "env = HospitalEnv(data)\n",
    "agent.fit(env, nb_steps=10000, visualize=False, verbose=1)"
   ]
  },
  {
   "cell_type": "code",
   "execution_count": null,
   "id": "a60781c7",
   "metadata": {},
   "outputs": [
    {
     "name": "stdout",
     "output_type": "stream",
     "text": [
      "State shape: (2,)\n",
      "State values: [-0.27857806 14.        ]\n"
     ]
    },
    {
     "name": "stderr",
     "output_type": "stream",
     "text": [
      "c:\\Users\\Ali\\miniconda3\\envs\\conv\\lib\\site-packages\\gym\\logger.py:30: UserWarning: \u001b[33mWARN: Box bound precision lowered by casting to float32\u001b[0m\n",
      "  warnings.warn(colorize('%s: %s'%('WARN', msg % args), 'yellow'))\n"
     ]
    }
   ],
   "source": [
    "agent.save_weights('dqn_hospital_weights.h5f', overwrite=True)\n",
    "\n",
    "# Test the agent\n",
    "test_obs = env.reset()\n",
    "action = agent.forward(test_obs)\n",
    "print(f\"Recommended Department: {label_encoders['MDC'].inverse_transform([action])}\")"
   ]
  },
  {
   "cell_type": "code",
   "execution_count": null,
   "id": "760a6a26",
   "metadata": {},
   "outputs": [],
   "source": [
    "env = HospitalEnv(data)\n",
    "state = env.reset()\n",
    "print(\"State shape:\", state.shape)  # Should be (2,)\n",
    "print(\"State values:\", state)"
   ]
  }
 ],
 "metadata": {
  "kernelspec": {
   "display_name": "conv",
   "language": "python",
   "name": "python3"
  },
  "language_info": {
   "codemirror_mode": {
    "name": "ipython",
    "version": 3
   },
   "file_extension": ".py",
   "mimetype": "text/x-python",
   "name": "python",
   "nbconvert_exporter": "python",
   "pygments_lexer": "ipython3",
   "version": "3.10.13"
  }
 },
 "nbformat": 4,
 "nbformat_minor": 5
}
