{
 "cells": [
  {
   "cell_type": "code",
   "execution_count": 5,
   "id": "44efe232",
   "metadata": {},
   "outputs": [],
   "source": [
    "import pandas as pd\n",
    "\n",
    "# Replace these with your actual Excel file path\n",
    "excel_file = 'Destatis_Germany Population Historics and Forecasts.xlsx'\n",
    "\n",
    "# Define sheet names\n",
    "forecast_sheet = 'Bevölkerung forecasts_ALL VAR'\n",
    "historical_sheet = 'Bevölkerung historics_per BL'"
   ]
  },
  {
   "cell_type": "code",
   "execution_count": 9,
   "id": "ac07a49f",
   "metadata": {},
   "outputs": [],
   "source": [
    "def inspect_excel_sheet(file_path, sheet_name, label):\n",
    "    print(f\"\\n--- Inspecting Sheet: {label} ({sheet_name}) ---\")\n",
    "\n",
    "    try:\n",
    "        df = pd.read_excel(file_path, sheet_name=sheet_name, header=None)\n",
    "    except Exception as e:\n",
    "        print(f\"❌ Error reading '{sheet_name}' from '{file_path}': {e}\")\n",
    "        return\n",
    "\n",
    "    print(f\"\\n✅ Sheet loaded: {sheet_name} — Shape: {df.shape}\")\n",
    "    \n",
    "    print(\"\\n🔍 First 15 Raw Rows (including metadata, if any):\")\n",
    "    print(df.head(15).to_string(index=False, header=False))"
   ]
  },
  {
   "cell_type": "code",
   "execution_count": 10,
   "id": "e49f1a3e",
   "metadata": {},
   "outputs": [
    {
     "name": "stdout",
     "output_type": "stream",
     "text": [
      "\n",
      "--- Inspecting Sheet: Forecast Population Data (Bevölkerung forecasts_ALL VAR) ---\n",
      "\n",
      "✅ Sheet loaded: Bevölkerung forecasts_ALL VAR — Shape: (8905, 102)\n",
      "\n",
      "🔍 First 15 Raw Rows (including metadata, if any):\n",
      "Vorausberechneter Bevölkerungsstand: Deutschland, Stichtag,\\nVarianten der Bevölkerungsvorausberechnung, Geschlecht,\\nAltersjahre                                          NaN      NaN          NaN        NaN NaN        NaN NaN        NaN NaN        NaN NaN        NaN NaN        NaN NaN        NaN NaN        NaN NaN        NaN NaN        NaN NaN        NaN NaN        NaN NaN        NaN NaN        NaN NaN        NaN NaN        NaN NaN        NaN NaN        NaN NaN        NaN NaN        NaN NaN        NaN NaN        NaN NaN        NaN NaN        NaN NaN        NaN NaN        NaN NaN        NaN NaN        NaN NaN        NaN NaN        NaN NaN        NaN NaN        NaN NaN        NaN NaN        NaN NaN        NaN NaN        NaN NaN        NaN NaN        NaN NaN        NaN NaN        NaN NaN        NaN NaN        NaN NaN        NaN NaN        NaN NaN        NaN NaN        NaN NaN        NaN NaN        NaN NaN        NaN NaN\n",
      "                                                                                                                              NaN                                          NaN      NaN          NaN        NaN NaN        NaN NaN        NaN NaN        NaN NaN        NaN NaN        NaN NaN        NaN NaN        NaN NaN        NaN NaN        NaN NaN        NaN NaN        NaN NaN        NaN NaN        NaN NaN        NaN NaN        NaN NaN        NaN NaN        NaN NaN        NaN NaN        NaN NaN        NaN NaN        NaN NaN        NaN NaN        NaN NaN        NaN NaN        NaN NaN        NaN NaN        NaN NaN        NaN NaN        NaN NaN        NaN NaN        NaN NaN        NaN NaN        NaN NaN        NaN NaN        NaN NaN        NaN NaN        NaN NaN        NaN NaN        NaN NaN        NaN NaN        NaN NaN        NaN NaN        NaN NaN        NaN NaN        NaN NaN        NaN NaN        NaN NaN        NaN NaN\n",
      "                                                                                                                              NaN                                          NaN      NaN          NaN        NaN NaN        NaN NaN        NaN NaN        NaN NaN        NaN NaN        NaN NaN        NaN NaN        NaN NaN        NaN NaN        NaN NaN        NaN NaN        NaN NaN        NaN NaN        NaN NaN        NaN NaN        NaN NaN        NaN NaN        NaN NaN        NaN NaN        NaN NaN        NaN NaN        NaN NaN        NaN NaN        NaN NaN        NaN NaN        NaN NaN        NaN NaN        NaN NaN        NaN NaN        NaN NaN        NaN NaN        NaN NaN        NaN NaN        NaN NaN        NaN NaN        NaN NaN        NaN NaN        NaN NaN        NaN NaN        NaN NaN        NaN NaN        NaN NaN        NaN NaN        NaN NaN        NaN NaN        NaN NaN        NaN NaN        NaN NaN        NaN NaN\n",
      "                                                                                                                              NaN                                          NaN      NaN          NaN        NaN NaN        NaN NaN        NaN NaN        NaN NaN        NaN NaN        NaN NaN        NaN NaN        NaN NaN        NaN NaN        NaN NaN        NaN NaN        NaN NaN        NaN NaN        NaN NaN        NaN NaN        NaN NaN        NaN NaN        NaN NaN        NaN NaN        NaN NaN        NaN NaN        NaN NaN        NaN NaN        NaN NaN        NaN NaN        NaN NaN        NaN NaN        NaN NaN        NaN NaN        NaN NaN        NaN NaN        NaN NaN        NaN NaN        NaN NaN        NaN NaN        NaN NaN        NaN NaN        NaN NaN        NaN NaN        NaN NaN        NaN NaN        NaN NaN        NaN NaN        NaN NaN        NaN NaN        NaN NaN        NaN NaN        NaN NaN        NaN NaN\n",
      "                                                              Varianten der Bevölkerungsvorausberechnung\\nGeschlecht\\nAltersjahre                                          NaN      NaN          NaN       2022 NaN       2023 NaN       2024 NaN       2025 NaN       2026 NaN       2027 NaN       2028 NaN       2029 NaN       2030 NaN        NaN NaN        NaN NaN        NaN NaN        NaN NaN        NaN NaN        NaN NaN        NaN NaN        NaN NaN        NaN NaN        NaN NaN        NaN NaN        NaN NaN        NaN NaN        NaN NaN        NaN NaN        NaN NaN        NaN NaN        NaN NaN        NaN NaN        NaN NaN        NaN NaN        NaN NaN        NaN NaN        NaN NaN        NaN NaN        NaN NaN        NaN NaN        NaN NaN        NaN NaN        NaN NaN        NaN NaN        NaN NaN        NaN NaN        NaN NaN        NaN NaN        NaN NaN        NaN NaN        NaN NaN        NaN NaN        NaN NaN\n",
      "                                                                                                                              NaN                                          NaN      NaN          NaN 31.12.2022 NaN 31.12.2023 NaN 31.12.2024 NaN 31.12.2025 NaN 31.12.2026 NaN 31.12.2027 NaN 31.12.2028 NaN 31.12.2029 NaN 31.12.2030 NaN 31.12.2031 NaN 31.12.2032 NaN 31.12.2033 NaN 31.12.2034 NaN 31.12.2035 NaN 31.12.2036 NaN 31.12.2037 NaN 31.12.2038 NaN 31.12.2039 NaN 31.12.2040 NaN 31.12.2041 NaN 31.12.2042 NaN 31.12.2043 NaN 31.12.2044 NaN 31.12.2045 NaN 31.12.2046 NaN 31.12.2047 NaN 31.12.2048 NaN 31.12.2049 NaN 31.12.2050 NaN 31.12.2051 NaN 31.12.2052 NaN 31.12.2053 NaN 31.12.2054 NaN 31.12.2055 NaN 31.12.2056 NaN 31.12.2057 NaN 31.12.2058 NaN 31.12.2059 NaN 31.12.2060 NaN 31.12.2061 NaN 31.12.2062 NaN 31.12.2063 NaN 31.12.2064 NaN 31.12.2065 NaN 31.12.2066 NaN 31.12.2067 NaN 31.12.2068 NaN 31.12.2069 NaN 31.12.2070 NaN\n",
      "                                                                                                                  BEV-VARIANTE-01 Geburten und LE moderat, WS niedrig (G2L2W1)      NaN          NaN        NaN NaN        NaN NaN        NaN NaN        NaN NaN        NaN NaN        NaN NaN        NaN NaN        NaN NaN        NaN NaN        NaN NaN        NaN NaN        NaN NaN        NaN NaN        NaN NaN        NaN NaN        NaN NaN        NaN NaN        NaN NaN        NaN NaN        NaN NaN        NaN NaN        NaN NaN        NaN NaN        NaN NaN        NaN NaN        NaN NaN        NaN NaN        NaN NaN        NaN NaN        NaN NaN        NaN NaN        NaN NaN        NaN NaN        NaN NaN        NaN NaN        NaN NaN        NaN NaN        NaN NaN        NaN NaN        NaN NaN        NaN NaN        NaN NaN        NaN NaN        NaN NaN        NaN NaN        NaN NaN        NaN NaN        NaN NaN        NaN NaN\n",
      "                                                                                                                  BEV-VARIANTE-01                                          NaN männlich unter 1 Jahr      385.8   e      388.5   e      388.8   e      388.6   e      387.9   e      386.6   e      384.8   e      382.5   e      379.7   e      376.4   e      372.7   e      368.7   e      364.7   e      361.1   e      357.9   e      355.2   e        353   e      351.3   e      350.2   e      349.7   e      349.7   e      350.1   e      350.9   e        352   e      353.1   e      354.2   e        355   e      355.5   e      355.6   e      355.4   e      354.7   e      353.7   e      352.3   e      350.6   e      348.8   e      346.7   e      344.6   e      342.4   e      340.2   e        338   e      335.8   e      333.6   e      331.5   e      329.4   e      327.5   e      325.6   e      323.8   e      322.2   e      320.8   e\n",
      "                                                                                                                              NaN                                          NaN männlich    1-Jährige      413.9   e      387.8   e      390.5   e      390.6   e      390.3   e      389.5   e      388.1   e      386.2   e      383.9   e        381   e      377.6   e      373.8   e      369.8   e      365.7   e      362.1   e        359   e      356.3   e      354.1   e      352.4   e      351.3   e      350.8   e      350.8   e      351.2   e      352.1   e      353.1   e      354.2   e      355.3   e      356.1   e      356.6   e      356.8   e      356.5   e      355.8   e      354.8   e      353.4   e      351.8   e      349.9   e      347.9   e      345.7   e      343.5   e      341.3   e      339.1   e      336.9   e      334.8   e      332.7   e      330.6   e      328.6   e      326.7   e        325   e      323.4   e\n",
      "                                                                                                                              NaN                                          NaN männlich    2-Jährige      409.6   e        416   e      389.8   e      392.3   e      392.3   e      391.9   e      391.1   e      389.5   e      387.6   e      385.1   e      382.1   e      378.7   e      374.9   e      370.8   e      366.8   e      363.2   e      360.1   e      357.4   e      355.2   e      353.5   e      352.4   e      351.9   e      351.9   e      352.3   e      353.2   e      354.2   e      355.3   e      356.4   e      357.2   e      357.7   e      357.9   e      357.6   e      356.9   e      355.9   e      354.5   e      352.9   e        351   e        349   e      346.8   e      344.6   e      342.4   e      340.2   e        338   e      335.9   e      333.8   e      331.7   e      329.7   e      327.8   e      326.1   e\n",
      "                                                                                                                              NaN                                          NaN männlich    3-Jährige      413.3   e      411.8   e      417.9   e      391.5   e      393.9   e      393.9   e      393.4   e      392.4   e      390.8   e      388.8   e      386.2   e      383.2   e      379.7   e      375.9   e      371.9   e      367.9   e      364.3   e      361.1   e      358.4   e      356.2   e      354.6   e      353.5   e      352.9   e      352.9   e      353.4   e      354.2   e      355.3   e      356.4   e      357.4   e      358.3   e      358.8   e      358.9   e      358.7   e        358   e      356.9   e      355.6   e      353.9   e        352   e        350   e      347.9   e      345.7   e      343.5   e      341.3   e      339.1   e      336.9   e      334.8   e      332.8   e      330.8   e      328.9   e\n",
      "                                                                                                                              NaN                                          NaN männlich    4-Jährige        421   e      415.6   e      413.7   e      419.7   e      393.2   e      395.5   e      395.4   e      394.8   e      393.8   e      392.1   e      389.9   e      387.3   e      384.3   e      380.8   e        377   e      372.9   e      368.9   e      365.3   e      362.2   e      359.5   e      357.3   e      355.6   e      354.6   e        354   e        354   e      354.5   e      355.3   e      356.3   e      357.5   e      358.5   e      359.3   e      359.9   e        360   e      359.7   e      359.1   e        358   e      356.7   e        355   e      353.1   e      351.1   e        349   e      346.8   e      344.5   e      342.4   e      340.2   e        338   e      335.9   e      333.9   e      331.9   e\n",
      "                                                                                                                              NaN                                          NaN männlich    5-Jährige      425.7   e      423.3   e      417.6   e      415.5   e      421.4   e      394.8   e        397   e      396.8   e      396.1   e        395   e      393.2   e        391   e      388.3   e      385.3   e      381.8   e        378   e        374   e        370   e      366.4   e      363.2   e      360.5   e      358.3   e      356.7   e      355.6   e      355.1   e        355   e      355.5   e      356.3   e      357.4   e      358.5   e      359.6   e      360.4   e      360.9   e        361   e      360.8   e      360.1   e      359.1   e      357.7   e      356.1   e      354.2   e      352.1   e        350   e      347.8   e      345.6   e      343.4   e      341.2   e      339.1   e        337   e      334.9   e\n",
      "                                                                                                                              NaN                                          NaN männlich    6-Jährige        428   e        428   e      425.1   e      419.1   e      416.9   e      422.7   e      396.1   e      398.2   e      397.9   e      397.2   e        396   e      394.1   e      391.9   e      389.2   e      386.2   e      382.7   e      378.9   e      374.9   e      370.9   e      367.3   e      364.1   e      361.5   e      359.3   e      357.6   e      356.5   e        356   e      355.9   e      356.4   e      357.2   e      358.3   e      359.4   e      360.5   e      361.3   e      361.8   e        362   e      361.7   e        361   e        360   e      358.6   e        357   e      355.1   e      353.1   e      350.9   e      348.7   e      346.5   e      344.3   e      342.1   e        340   e      337.9   e\n",
      "                                                                                                                              NaN                                          NaN männlich    7-Jährige      416.5   e      430.5   e        430   e      426.9   e      420.7   e      418.4   e      424.2   e      397.4   e      399.5   e      399.1   e      398.3   e        397   e      395.1   e      392.9   e      390.3   e      387.2   e      383.8   e        380   e      375.9   e      371.9   e      368.3   e      365.2   e      362.5   e      360.3   e      358.6   e      357.5   e        357   e        357   e      357.4   e      358.3   e      359.3   e      360.5   e      361.5   e      362.3   e      362.9   e        363   e      362.7   e      362.1   e        361   e      359.7   e        358   e      356.1   e      354.1   e        352   e      349.8   e      347.6   e      345.4   e      343.2   e        341   e\n"
     ]
    }
   ],
   "source": [
    "# Inspect both sheets\n",
    "inspect_excel_sheet(excel_file, forecast_sheet, \"Forecast Population Data\")"
   ]
  },
  {
   "cell_type": "code",
   "execution_count": 11,
   "id": "24e8c4f6",
   "metadata": {},
   "outputs": [
    {
     "name": "stdout",
     "output_type": "stream",
     "text": [
      "\n",
      "--- Inspecting Sheet: Historical Population Data (Bevölkerung historics_per BL) ---\n",
      "\n",
      "✅ Sheet loaded: Bevölkerung historics_per BL — Shape: (1034, 18)\n",
      "\n",
      "🔍 First 15 Raw Rows (including metadata, if any):\n",
      "Bevölkerung: Bundesländer, Stichtag, Altersjahre               NaN    NaN    NaN         NaN    NaN     NaN    NaN                    NaN           NaN                 NaN             NaN      NaN     NaN            NaN                NaN       NaN                                                                                                      NaN\n",
      "          Fortschreibung des Bevölkerungsstandes               NaN    NaN    NaN         NaN    NaN     NaN    NaN                    NaN           NaN                 NaN             NaN      NaN     NaN            NaN                NaN       NaN https://www-genesis.destatis.de/genesis/online?sequenz=statistikTabellen&selectionname=12411#abreadcrumb\n",
      "                      Bevölkerungsstand (Anzahl)               NaN    NaN    NaN         NaN    NaN     NaN    NaN                    NaN           NaN                 NaN             NaN      NaN     NaN            NaN                NaN       NaN                                                                                      Tabelle: 12411-0012\n",
      "                                     Altersjahre      Bundesländer    NaN    NaN         NaN    NaN     NaN    NaN                    NaN           NaN                 NaN             NaN      NaN     NaN            NaN                NaN       NaN                                                                                                      NaN\n",
      "                                             NaN Baden-Württemberg Bayern Berlin Brandenburg Bremen Hamburg Hessen Mecklenburg-Vorpommern Niedersachsen Nordrhein-Westfalen Rheinland-Pfalz Saarland Sachsen Sachsen-Anhalt Schleswig-Holstein Thüringen                                                                                                 In total\n",
      "                                      31.12.2010               NaN    NaN    NaN         NaN    NaN     NaN    NaN                    NaN           NaN                 NaN             NaN      NaN     NaN            NaN                NaN       NaN                                                                                                      NaN\n",
      "                                    unter 1 Jahr             90868 106070  33172       19108   5517   17086  51737                  13325         63192              146941           31604     7064   35065          17323              22622     17539                                                                                                   678233\n",
      "                                       1-Jährige             90592 105199  32161       19096   5393   16274  51050                  13055         63045              145733           31153     6963   34233          17186              22526     16955                                                                                                   670614\n",
      "                                       2-Jährige             93067 107920  31858       19781   5410   16206  52232                  13159         65818              151417           32750     7209   34579          17743              23461     17508                                                                                                   690118\n",
      "                                       3-Jährige             94108 108747  30876       19673   5435   16168  52987                  12832         66409              151652           32879     7242   33855          17296              23949     17080                                                                                                   691188\n",
      "                                       4-Jährige             93277 106975  29213       19065   5338   15349  51587                  12579         66341              150615           32306     7202   32440          16649              23736     16295                                                                                                   678967\n",
      "                                       5-Jährige             95374 109479  28030       19142   5208   15335  53159                  12156         68270              153856           33174     7480   32382          16830              24087     16539                                                                                                   690501\n",
      "                                       6-Jährige             97832 111736  27903       19695   5174   14990  53893                  12852         71546              158190           34164     7674   32915          16852              25355     16998                                                                                                   707769\n",
      "                                       7-Jährige             98381 112894  26727       19714   5215   14639  53534                  12612         72026              159969           34859     7643   31804          16401              25542     16625                                                                                                   708585\n",
      "                                       8-Jährige            100629 114756  26677       19457   5152   14508  54648                  12341         74947              164132           35648     8024   31273          16966              26217     16604                                                                                                   721979\n"
     ]
    }
   ],
   "source": [
    "inspect_excel_sheet(excel_file, historical_sheet, \"Historical Population Data\")"
   ]
  },
  {
   "cell_type": "code",
   "execution_count": 22,
   "id": "71a32119",
   "metadata": {},
   "outputs": [],
   "source": [
    "import pandas as pd\n",
    "from googletrans import Translator\n",
    "import re\n",
    "import numpy as np"
   ]
  },
  {
   "cell_type": "code",
   "execution_count": 26,
   "id": "3c0aee2b",
   "metadata": {},
   "outputs": [
    {
     "name": "stdout",
     "output_type": "stream",
     "text": [
      "Filtered to keep only 'Insgesamt' blocks.\n"
     ]
    }
   ],
   "source": [
    "df = pd.read_excel(excel_file, forecast_sheet, header=None)  # Use header=None if there is no header row\n",
    "\n",
    "# Assume the first column (column 0) contains 'männlich', 'weiblich', 'Insgesamt', or is blank\n",
    "keep_rows = []\n",
    "current_mode = None  # Can be 'keep' or 'skip'\n",
    "\n",
    "for _, row in df.iterrows():\n",
    "    first_cell = str(row.iloc[2]).strip().lower()\n",
    "\n",
    "    if first_cell == 'insgesamt':\n",
    "        current_mode = 'keep'\n",
    "        keep_rows.append(True)\n",
    "    elif first_cell in ['männlich', 'weiblich']:\n",
    "        current_mode = 'skip'\n",
    "        keep_rows.append(False)\n",
    "    else:\n",
    "        # If the first cell is empty, continue current mode\n",
    "        keep_rows.append(current_mode == 'keep')\n",
    "\n",
    "# Filter and save the result\n",
    "filtered_df = df[pd.Series(keep_rows)].reset_index(drop=True)\n",
    "filtered_df.to_excel(\"only_insgesamt.xlsx\", index=False, header=False)\n",
    "\n",
    "print(\"Filtered to keep only 'Insgesamt' blocks.\")\n"
   ]
  },
  {
   "cell_type": "code",
   "execution_count": 27,
   "id": "81af8247",
   "metadata": {},
   "outputs": [
    {
     "name": "stdout",
     "output_type": "stream",
     "text": [
      "                                                    0    1          2    \\\n",
      "0                                                   NaN  NaN  Insgesamt   \n",
      "1                                                   NaN  NaN  Insgesamt   \n",
      "2                                                   NaN  NaN  Insgesamt   \n",
      "3                                                   NaN  NaN  Insgesamt   \n",
      "4                                                   NaN  NaN  Insgesamt   \n",
      "...                                                 ...  ...        ...   \n",
      "2977                                    danach konstant  NaN        NaN   \n",
      "2978  W3: Rückgang von 1,5 Mill. in 2022 auf 350.000...  NaN        NaN   \n",
      "2979                                    danach konstant  NaN        NaN   \n",
      "2980    W0: Wanderungssaldo Null (keine Außenwanderung)  NaN        NaN   \n",
      "2981  © Statistisches Bundesamt (Destatis), 2025 | S...  NaN        NaN   \n",
      "\n",
      "               3      4    5      6    7      8    9    ...    92   93   \\\n",
      "0     unter 1 Jahr    752    e  757.4    e  757.9    e  ...  638.3    e   \n",
      "1        1-Jährige  806.5    e  755.9    e  761.2    e  ...  644.5    e   \n",
      "2        2-Jährige  796.8    e  810.5    e  759.8    e  ...  650.8    e   \n",
      "3        3-Jährige  805.7    e  800.8    e  814.3    e  ...  657.1    e   \n",
      "4        4-Jährige  820.9    e  809.9    e  804.7    e  ...  663.4    e   \n",
      "...            ...    ...  ...    ...  ...    ...  ...  ...    ...  ...   \n",
      "2977           NaN    NaN  NaN    NaN  NaN    NaN  NaN  ...    NaN  NaN   \n",
      "2978           NaN    NaN  NaN    NaN  NaN    NaN  NaN  ...    NaN  NaN   \n",
      "2979           NaN    NaN  NaN    NaN  NaN    NaN  NaN  ...    NaN  NaN   \n",
      "2980           NaN    NaN  NaN    NaN  NaN    NaN  NaN  ...    NaN  NaN   \n",
      "2981           NaN    NaN  NaN    NaN  NaN    NaN  NaN  ...    NaN  NaN   \n",
      "\n",
      "        94   95     96   97     98   99     100  101  \n",
      "0     634.6    e  631.2    e  628.1    e  625.3    e  \n",
      "1     640.7    e    637    e  633.5    e  630.4    e  \n",
      "2     646.8    e  642.9    e  639.2    e  635.8    e  \n",
      "3       653    e    649    e  645.1    e  641.4    e  \n",
      "4     659.2    e  655.1    e  651.1    e  647.3    e  \n",
      "...     ...  ...    ...  ...    ...  ...    ...  ...  \n",
      "2977    NaN  NaN    NaN  NaN    NaN  NaN    NaN  NaN  \n",
      "2978    NaN  NaN    NaN  NaN    NaN  NaN    NaN  NaN  \n",
      "2979    NaN  NaN    NaN  NaN    NaN  NaN    NaN  NaN  \n",
      "2980    NaN  NaN    NaN  NaN    NaN  NaN    NaN  NaN  \n",
      "2981    NaN  NaN    NaN  NaN    NaN  NaN    NaN  NaN  \n",
      "\n",
      "[2982 rows x 102 columns]\n"
     ]
    }
   ],
   "source": [
    "print(filtered_df)"
   ]
  },
  {
   "cell_type": "code",
   "execution_count": null,
   "id": "71ec5003",
   "metadata": {},
   "outputs": [
    {
     "name": "stdout",
     "output_type": "stream",
     "text": [
      "Unique (col0, col1) pairs:\n",
      "                  0                                                  1\n",
      "0   BEV-VARIANTE-01       Geburten und LE moderat, WS niedrig (G2L2W1)\n",
      "1   BEV-VARIANTE-02               Geburten, LE und WS moderat (G2L2W2)\n",
      "2   BEV-VARIANTE-03          Geburten und LE moderat, WS hoch (G2L2W3)\n",
      "3   BEV-VARIANTE-04                  Relativ alte Bevölkerung (G1L3W1)\n",
      "4   BEV-VARIANTE-05                 Relativ junge Bevölkerung (G3L1W3)\n",
      "5   BEV-VARIANTE-06               Niedrige Geburtenhäufigkeit (G1L2W2)\n",
      "6   BEV-VARIANTE-07                   Hohe Geburtenhäufigkeit (G3L2W2)\n",
      "7   BEV-VARIANTE-08      Geringe Steigung der Lebenserwartung (G2L1W2)\n",
      "8   BEV-VARIANTE-09       Starke Steigung der Lebenserwartung (G2L3W2)\n",
      "9   BEV-VARIANTE-10                       Bevölkerungsminimum (G1L1W1)\n",
      "10  BEV-VARIANTE-11                       Bevölkerungsmaximum (G3L3W3)\n",
      "11  BEV-VARIANTE-12  Geburten niedrig, LE moderat, WS niedrig (G1L2W1)\n",
      "12  BEV-VARIANTE-13            Lebenserwartung und WS niedrig (G2L1W1)\n",
      "13  BEV-VARIANTE-14          Lebenserwartung hoch, WS niedrig (G2L3W1)\n",
      "14  BEV-VARIANTE-15     Geburten niedrig, LE geringer Anstieg (G1L1W2)\n",
      "15  BEV-VARIANTE-16      Geburten niedrig, LE starker Anstieg (G1L3W2)\n",
      "16  BEV-VARIANTE-17        Geburten hoch, LE geringer Anstieg (G3L1W2)\n",
      "17  BEV-VARIANTE-18         Geburten hoch, LE starker Anstieg (G3L3W2)\n",
      "18  BEV-VARIANTE-19              LE geringer Anstieg, WS hoch (G2L1W3)\n",
      "19  BEV-VARIANTE-20               Lebenserwartung und WS hoch (G2L3W3)\n",
      "20  BEV-VARIANTE-21         Geburten und Wanderungssaldo hoch (G3L2W3)\n",
      "21    BEV-MODELL-01    Geb. hoch, WS niedrig, LE ger. Anstieg (G3L1W1)\n",
      "22    BEV-MODELL-02    Geb. hoch, WS niedrig, LE mod. Anstieg (G3L2W1)\n",
      "23    BEV-MODELL-03  Geb. hoch, WS niedrig,LE starker Anstieg (G3L3W1)\n",
      "24    BEV-MODELL-04  Geb. niedrig, WS hoch,LE geringer Anstieg (G1L...\n",
      "25    BEV-MODELL-05    Geb. niedrig, WS hoch, LE mod. Anstieg (G1L2W3)\n",
      "26    BEV-MODELL-06  Geb. niedrig, WS hoch,LE starker Anstieg (G1L3W3)\n",
      "27    BEV-MODELL-07          Geburten und LE moderat, WS Null (G2L2W0)\n",
      "28    BEV-MODELL-08               2,1 Kinder je Frau, WS Null (GRL2W0)\n",
      "Done! File saved as 'updated_with_unique_pairs.xlsx'.\n"
     ]
    }
   ],
   "source": [
    "subset = df.iloc[6:, [0, 1]].dropna()  # Drop any rows with NaN in either column\n",
    "\n",
    "# Step 2: Filter out rows where either column is empty after stripping\n",
    "subset = subset[(subset[0].astype(str).str.strip() != '') & (subset[1].astype(str).str.strip() != '')]\n",
    "\n",
    "# Step 3: Drop duplicates to get unique pairs\n",
    "unique_pairs = subset.drop_duplicates().reset_index(drop=True)\n",
    "\n",
    "# Print for debug\n",
    "print(\"Unique (col0, col1) pairs:\")\n",
    "print(unique_pairs)\n",
    "\n",
    "# Step 4: Create a new DataFrame from the original one (or a different one)\n",
    "# For demonstration, let's assume we're copying from the original file"
   ]
  },
  {
   "cell_type": "code",
   "execution_count": 33,
   "id": "e64a28ae",
   "metadata": {},
   "outputs": [],
   "source": [
    "new_df = pd.read_excel(\"only_insgesamt.xlsx\", header=None)"
   ]
  },
  {
   "cell_type": "code",
   "execution_count": 34,
   "id": "ed8bb36a",
   "metadata": {},
   "outputs": [
    {
     "name": "stderr",
     "output_type": "stream",
     "text": [
      "C:\\Users\\Usaid\\AppData\\Local\\Temp\\ipykernel_14576\\3692631689.py:11: FutureWarning: Setting an item of incompatible dtype is deprecated and will raise an error in a future version of pandas. Value 'Geburten und LE moderat, WS niedrig (G2L2W1)' has dtype incompatible with float64, please explicitly cast to a compatible dtype first.\n",
      "  new_df.at[insgesamt_indices[i], 1] = unique_pairs.iloc[i, 1]\n"
     ]
    },
    {
     "name": "stdout",
     "output_type": "stream",
     "text": [
      "Done! File saved as 'updated_with_unique_pairs.xlsx'.\n"
     ]
    }
   ],
   "source": [
    "# Step 5: Insert the unique pairs only into rows where column 2 == 'Insgesamt'\n",
    "target_rows = new_df[2].astype(str).str.strip().str.lower() == 'insgesamt'\n",
    "\n",
    "# Make sure the number of \"Insgesamt\" rows is at least the number of unique pairs\n",
    "insgesamt_indices = new_df[target_rows].index.tolist()\n",
    "num_to_insert = min(len(unique_pairs), len(insgesamt_indices))\n",
    "\n",
    "# Step 6: Insert the values\n",
    "for i in range(num_to_insert):\n",
    "    new_df.at[insgesamt_indices[i], 0] = unique_pairs.iloc[i, 0]\n",
    "    new_df.at[insgesamt_indices[i], 1] = unique_pairs.iloc[i, 1]\n",
    "\n",
    "# Save to Excel\n",
    "new_df.to_excel(\"updated_with_unique_pairs.xlsx\", index=False, header=False)\n",
    "\n",
    "print(\"Done! File saved as 'updated_with_unique_pairs.xlsx'.\")"
   ]
  },
  {
   "cell_type": "code",
   "execution_count": 40,
   "id": "2542a4cd",
   "metadata": {},
   "outputs": [
    {
     "name": "stdout",
     "output_type": "stream",
     "text": [
      "Correctly removed even-positioned columns from index 5 onward.\n"
     ]
    }
   ],
   "source": [
    "# Starting from column index 5\n",
    "start_idx = 5\n",
    "columns_to_check = new_df.columns[start_idx:]\n",
    "\n",
    "# Identify columns with even *position* from that point (i.e., idx 0, 2, 4 from the start_idx)\n",
    "even_positioned_columns = [\n",
    "    col for i, col in enumerate(columns_to_check)\n",
    "    if i % 2 == 0  # relative to start_idx\n",
    "]\n",
    "\n",
    "# Drop them\n",
    "new_df_cleaned = new_df.drop(columns=even_positioned_columns)\n",
    "\n",
    "# Save the result\n",
    "new_df_cleaned.to_excel(\"final_cleaned_output.xlsx\", index=False, header=False)\n",
    "\n",
    "print(f\"Correctly removed even-positioned columns from index {start_idx} onward.\")\n"
   ]
  },
  {
   "cell_type": "code",
   "execution_count": 42,
   "id": "d32c7c59",
   "metadata": {},
   "outputs": [
    {
     "name": "stdout",
     "output_type": "stream",
     "text": [
      "✅ Added a row of years at the top. Saved as 'with_year_row.xlsx'.\n"
     ]
    }
   ],
   "source": [
    "# Load the Excel file (no header row)\n",
    "df_v3 = pd.read_excel(\"final_cleaned_output.xlsx\", header=None)\n",
    "\n",
    "# Define how many columns there are\n",
    "num_columns = df_v3.shape[1]\n",
    "\n",
    "# Define where to start adding years (5th column = index 4)\n",
    "start_col = 4\n",
    "start_year = 2022\n",
    "\n",
    "# Construct the top row: empty strings before start_col, then increasing years\n",
    "top_row = [''] * start_col + [str(start_year + i) for i in range(num_columns - start_col)]\n",
    "\n",
    "# Create a DataFrame from the row\n",
    "top_row_df = pd.DataFrame([top_row], columns=df_v3.columns)\n",
    "\n",
    "# Concatenate the row and original data\n",
    "df_with_years = pd.concat([top_row_df, df_v3], ignore_index=True)\n",
    "\n",
    "# Save the result\n",
    "df_with_years.to_excel(\"with_year_row.xlsx\", index=False, header=False)\n",
    "\n",
    "print(\"✅ Added a row of years at the top. Saved as 'with_year_row.xlsx'.\")"
   ]
  },
  {
   "cell_type": "code",
   "execution_count": 45,
   "id": "b2287626",
   "metadata": {},
   "outputs": [
    {
     "name": "stdout",
     "output_type": "stream",
     "text": [
      "✅ Processed blocks: summed 90+ ages, inserted new row, removed originals correctly.\n"
     ]
    }
   ],
   "source": [
    "# Load your Excel file (with year header at the top)\n",
    "df_age = pd.read_excel(\"with_year_row.xlsx\", header=None)\n",
    "\n",
    "# Separate the year header row\n",
    "year_header = df_age.iloc[[0]]\n",
    "data = df_age.iloc[1:].copy().reset_index(drop=True)\n",
    "\n",
    "age_col = 3        # 4th column (0-based)\n",
    "start_data_col = 4 # from 5th column onward\n",
    "\n",
    "# Labels\n",
    "block_start_age = \"unter 1 Jahr\"\n",
    "block_end_age = \"100 Jahre und mehr\"\n",
    "\n",
    "start_age_90 = \"90-Jährige\"\n",
    "end_age_100 = \"100 Jahre und mehr\"\n",
    "insert_after_age = \"89-Jährige\"\n",
    "\n",
    "# Find block boundaries (start and end indices)\n",
    "block_starts = data.index[data[age_col] == block_start_age].tolist()\n",
    "block_ends = data.index[data[age_col] == block_end_age].tolist()\n",
    "\n",
    "assert len(block_starts) == len(block_ends), \"Mismatch in block starts and ends\"\n",
    "\n",
    "result_blocks = []\n",
    "\n",
    "for start_idx, end_idx in zip(block_starts, block_ends):\n",
    "    block = data.loc[start_idx:end_idx].copy().reset_index(drop=True)\n",
    "    \n",
    "    # Find positions of start_age_90 and end_age_100 inside block\n",
    "    try:\n",
    "        idx_start_90 = block[block[age_col] == start_age_90].index[0]\n",
    "    except IndexError:\n",
    "        # No 90 age found in this block, just keep block as is\n",
    "        result_blocks.append(block)\n",
    "        continue\n",
    "\n",
    "    try:\n",
    "        idx_end_100 = block[block[age_col] == end_age_100].index[0]\n",
    "    except IndexError:\n",
    "        # No 100 age found, use last row as end\n",
    "        idx_end_100 = block.index[-1]\n",
    "\n",
    "    # Rows to sum = from idx_start_90 to idx_end_100 inclusive\n",
    "    rows_to_sum = block.loc[idx_start_90:idx_end_100, start_data_col:]\n",
    "    summed_vals = rows_to_sum.apply(pd.to_numeric, errors='coerce').sum()\n",
    "\n",
    "    # Create new row\n",
    "    new_row = [''] * age_col + [\"90 Jahre und mehr\"] + summed_vals.tolist()\n",
    "\n",
    "    # Drop the old 90+ rows\n",
    "    block_cleaned = block.drop(index=range(idx_start_90, idx_end_100+1)).reset_index(drop=True)\n",
    "\n",
    "    # Find insert position (after '89-Jährige')\n",
    "    try:\n",
    "        insert_pos = block_cleaned[block_cleaned[age_col] == insert_after_age].index[0] + 1\n",
    "    except IndexError:\n",
    "        # If no '89-Jährige' found, append at end\n",
    "        insert_pos = len(block_cleaned)\n",
    "\n",
    "    # Insert new row\n",
    "    block_with_new_row = pd.concat([\n",
    "        block_cleaned.iloc[:insert_pos],\n",
    "        pd.DataFrame([new_row], columns=block.columns),\n",
    "        block_cleaned.iloc[insert_pos:]\n",
    "    ]).reset_index(drop=True)\n",
    "\n",
    "    result_blocks.append(block_with_new_row)\n",
    "\n",
    "# Combine all blocks back\n",
    "final_data = pd.concat(result_blocks, ignore_index=True)\n",
    "\n",
    "# Add year header row back\n",
    "final_df = pd.concat([year_header, final_data], ignore_index=True)\n",
    "\n",
    "# Save result\n",
    "final_df.to_excel(\"final_with_correct_summed_90plus_per_block.xlsx\", index=False, header=False)\n",
    "\n",
    "print(\"✅ Processed blocks: summed 90+ ages, inserted new row, removed originals correctly.\")"
   ]
  },
  {
   "cell_type": "code",
   "execution_count": 47,
   "id": "e6cab54b",
   "metadata": {},
   "outputs": [
    {
     "name": "stdout",
     "output_type": "stream",
     "text": [
      "✅ Added 'Insgesamt' row after each '90 Jahre und mehr' row per block.\n"
     ]
    }
   ],
   "source": [
    "df_final = pd.read_excel(\"final_with_correct_summed_90plus_per_block.xlsx\", header=None)\n",
    "\n",
    "# Extract header\n",
    "year_header = df_final.iloc[[0]]\n",
    "data = df_final.iloc[1:].copy().reset_index(drop=True)\n",
    "\n",
    "# Config\n",
    "age_col = 3        # Column D (0-based)\n",
    "data_start_col = 4 # Column E onwards\n",
    "\n",
    "# Age markers\n",
    "start_age = \"unter 1 Jahr\"\n",
    "end_age = \"90 Jahre und mehr\"\n",
    "cutoff_age = \"90 Jahre und mehr\"\n",
    "\n",
    "# Find block boundaries\n",
    "block_starts = data.index[data[age_col] == start_age].tolist()\n",
    "block_ends = data.index[data[age_col] == end_age].tolist()\n",
    "\n",
    "assert len(block_starts) == len(block_ends), \"Mismatch in age block boundaries!\"\n",
    "\n",
    "new_blocks = []\n",
    "\n",
    "for start_idx, end_idx in zip(block_starts, block_ends):\n",
    "    block = data.loc[start_idx:end_idx].copy().reset_index(drop=True)\n",
    "\n",
    "    try:\n",
    "        idx_cutoff = block[block[age_col] == cutoff_age].index[0]\n",
    "    except IndexError:\n",
    "        print(f\"⚠️ Skipping block without cutoff age: {cutoff_age}\")\n",
    "        new_blocks.append(block)\n",
    "        continue\n",
    "\n",
    "    # Sum from \"unter 1 Jahr\" to \"90 Jahre und mehr\" inclusive\n",
    "    rows_to_sum = block.loc[0:idx_cutoff, data_start_col:]\n",
    "    summed_values = rows_to_sum.apply(pd.to_numeric, errors='coerce').sum()\n",
    "\n",
    "    # Build new row\n",
    "    new_row = [''] * age_col + [\"Insgesamt\"] + summed_values.tolist()\n",
    "\n",
    "    # Insert after \"90 Jahre und mehr\"\n",
    "    insert_pos = idx_cutoff + 1\n",
    "    block_with_sum = pd.concat([\n",
    "        block.iloc[:insert_pos],\n",
    "        pd.DataFrame([new_row], columns=block.columns),\n",
    "        block.iloc[insert_pos:]\n",
    "    ]).reset_index(drop=True)\n",
    "\n",
    "    new_blocks.append(block_with_sum)\n",
    "\n",
    "# Combine blocks back\n",
    "final_data = pd.concat(new_blocks, ignore_index=True)\n",
    "\n",
    "# Add back the year row\n",
    "final_result = pd.concat([year_header, final_data], ignore_index=True)\n",
    "\n",
    "# Save to Excel\n",
    "final_result.to_excel(\"final_with_insgesamt_per_block.xlsx\", index=False, header=False)\n",
    "\n",
    "print(\"✅ Added 'Insgesamt' row after each '90 Jahre und mehr' row per block.\")"
   ]
  },
  {
   "cell_type": "code",
   "execution_count": null,
   "id": "82f9b45b",
   "metadata": {},
   "outputs": [],
   "source": []
  }
 ],
 "metadata": {
  "kernelspec": {
   "display_name": "Python 3",
   "language": "python",
   "name": "python3"
  },
  "language_info": {
   "codemirror_mode": {
    "name": "ipython",
    "version": 3
   },
   "file_extension": ".py",
   "mimetype": "text/x-python",
   "name": "python",
   "nbconvert_exporter": "python",
   "pygments_lexer": "ipython3",
   "version": "3.12.4"
  }
 },
 "nbformat": 4,
 "nbformat_minor": 5
}
