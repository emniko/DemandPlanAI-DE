{
 "cells": [
  {
   "cell_type": "code",
   "execution_count": 1,
   "id": "530c92a6",
   "metadata": {},
   "outputs": [],
   "source": [
    "import pandas as pd\n",
    "import numpy as np\n",
    "from sklearn.linear_model import LinearRegression"
   ]
  },
  {
   "cell_type": "code",
   "execution_count": 4,
   "id": "85832e72",
   "metadata": {},
   "outputs": [],
   "source": [
    "# === Step 1: Load Historical Core Data and Projection Data ===\n",
    "core_data = pd.read_csv(\"Historical.csv\")  # State-level shares over years\n",
    "projection_data = pd.read_excel(\"Forecast.xlsx\")  # National projections by variant"
   ]
  },
  {
   "cell_type": "code",
   "execution_count": null,
   "id": "f229c537",
   "metadata": {},
   "outputs": [],
   "source": [
    "# === Step 2: Preprocess Historical State Shares ===\n",
    "# Remove 'Total' rows\n",
    "core_data = core_data[core_data[\"Age\"] != \"Total\"]\n",
    "core_data[\"Age\"] = core_data[\"Age\"].astype(int)\n",
    "\n",
    "# Filter for required columns only (states + Age + Year)\n",
    "state_columns = [col for col in core_data.columns if col not in [\"Year\", \"Age\"]]\n",
    "\n",
    "# === Step 3: Predict Future State Shares (Wide Format) ===\n",
    "future_years = np.arange(2022, 2071)\n",
    "all_preds = []\n",
    "\n",
    "# For each state column, predict share for each age using linear regression\n",
    "for state in state_columns:\n",
    "    state_preds = {\"Age\": [], \"Year\": [], state: []}\n",
    "    for age in core_data[\"Age\"].unique():\n",
    "        subset = core_data[core_data[\"Age\"] == age][[\"Year\", state]].dropna()\n",
    "        if len(subset) < 3:\n",
    "            continue  # Not enough data to fit a model\n",
    "\n",
    "        X = subset[\"Year\"].values.reshape(-1, 1)\n",
    "        y = subset[state].values\n",
    "        model = LinearRegression().fit(X, y)\n",
    "        y_pred = model.predict(future_years.reshape(-1, 1))\n",
    "        y_pred = np.clip(y_pred, 0, 1)  # Ensure shares stay within [0, 1]\n",
    "\n",
    "        state_preds[\"Age\"].extend([age] * len(future_years))\n",
    "        state_preds[\"Year\"].extend(future_years)\n",
    "        state_preds[state].extend(y_pred)\n",
    "\n",
    "    all_preds.append(pd.DataFrame(state_preds))\n",
    "\n",
    "# Merge all predicted state share dataframes on (Age, Year)\n",
    "from functools import reduce\n",
    "predicted_shares_df = reduce(lambda left, right: pd.merge(left, right, on=[\"Age\", \"Year\"], how=\"outer\"), all_preds)\n",
    "\n",
    "# === Step 4: Preprocess Projection Data ===\n",
    "projection_data[\"Variant\"] = projection_data[\"Variant\"].ffill()\n",
    "projection_data[\"Variant Description\"] = projection_data[\"Variant Description\"].ffill()\n",
    "\n",
    "# Drop 'Total' if present\n",
    "projection_data = projection_data[projection_data[\"Age\"] != \"Total\"]\n",
    "projection_data[\"Age\"] = projection_data[\"Age\"].astype(int)\n",
    "\n",
    "# Melt projections: one row per (Variant, Age, Year)\n",
    "proj_long = projection_data.melt(\n",
    "    id_vars=[\"Variant\", \"Variant Description\", \"Age\"],\n",
    "    var_name=\"Year\",\n",
    "    value_name=\"National_Pop_Thousands\"\n",
    ")\n",
    "proj_long[\"Year\"] = proj_long[\"Year\"].astype(int)\n",
    "proj_long[\"National_Pop\"] = proj_long[\"National_Pop_Thousands\"] * 1000\n",
    "\n",
    "# === Step 5: Merge National Projections with Predicted Shares ===\n",
    "merged = proj_long.merge(predicted_shares_df, on=[\"Age\", \"Year\"], how=\"left\")\n",
    "\n",
    "# === Step 6: Multiply Shares with National Population for Each State ===\n",
    "for state in state_columns:\n",
    "    merged[state] = merged[state] * merged[\"National_Pop\"]\n",
    "\n",
    "# === Step 7: Final Output in Wide Format ===\n",
    "# Keep only necessary columns\n",
    "output_columns = [\"Variant\", \"Variant Description\", \"Year\", \"Age\"] + state_columns\n",
    "final_df = merged[output_columns]"
   ]
  },
  {
   "cell_type": "code",
   "execution_count": 17,
   "id": "93b588de",
   "metadata": {},
   "outputs": [
    {
     "name": "stderr",
     "output_type": "stream",
     "text": [
      "C:\\Users\\Usaid\\AppData\\Local\\Temp\\ipykernel_23568\\2800723106.py:2: SettingWithCopyWarning: \n",
      "A value is trying to be set on a copy of a slice from a DataFrame\n",
      "\n",
      "See the caveats in the documentation: https://pandas.pydata.org/pandas-docs/stable/user_guide/indexing.html#returning-a-view-versus-a-copy\n",
      "  final_df.sort_values(by=[\"Variant\", \"Variant Description\", \"Year\", \"Age\"], inplace=True)\n",
      "C:\\Users\\Usaid\\AppData\\Local\\Temp\\ipykernel_23568\\2800723106.py:5: SettingWithCopyWarning: \n",
      "A value is trying to be set on a copy of a slice from a DataFrame.\n",
      "Try using .loc[row_indexer,col_indexer] = value instead\n",
      "\n",
      "See the caveats in the documentation: https://pandas.pydata.org/pandas-docs/stable/user_guide/indexing.html#returning-a-view-versus-a-copy\n",
      "  final_df[[\"Variant\", \"Variant Description\", \"Year\"]] = final_df[[\"Variant\", \"Variant Description\", \"Year\"]].mask(\n"
     ]
    }
   ],
   "source": [
    "# Sort to ensure order\n",
    "final_df.sort_values(by=[\"Variant\", \"Variant Description\", \"Year\", \"Age\"], inplace=True)\n",
    "\n",
    "# Reset repeated values to empty strings\n",
    "final_df[[\"Variant\", \"Variant Description\", \"Year\"]] = final_df[[\"Variant\", \"Variant Description\", \"Year\"]].mask(\n",
    "    final_df[[\"Variant\", \"Variant Description\", \"Year\"]].eq(\n",
    "        final_df[[\"Variant\", \"Variant Description\", \"Year\"]].shift()\n",
    "    )\n",
    ")\n"
   ]
  },
  {
   "cell_type": "code",
   "execution_count": 18,
   "id": "71a901f4",
   "metadata": {},
   "outputs": [],
   "source": [
    "final_df.to_excel(\"state_level_projection_wide.xlsx\", index=False)"
   ]
  },
  {
   "cell_type": "code",
   "execution_count": null,
   "id": "b8208e17",
   "metadata": {},
   "outputs": [],
   "source": []
  }
 ],
 "metadata": {
  "kernelspec": {
   "display_name": "Python 3",
   "language": "python",
   "name": "python3"
  },
  "language_info": {
   "codemirror_mode": {
    "name": "ipython",
    "version": 3
   },
   "file_extension": ".py",
   "mimetype": "text/x-python",
   "name": "python",
   "nbconvert_exporter": "python",
   "pygments_lexer": "ipython3",
   "version": "3.12.4"
  }
 },
 "nbformat": 4,
 "nbformat_minor": 5
}
